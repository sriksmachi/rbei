{
 "cells": [
  {
   "cell_type": "code",
   "execution_count": 1,
   "metadata": {},
   "outputs": [],
   "source": [
    "import os\n",
    "import json\n",
    "import argparse\n",
    "import numpy as np\n",
    "import random\n",
    "import math\n",
    "import csv\n",
    "from PIL import Image, ImageEnhance"
   ]
  },
  {
   "cell_type": "code",
   "execution_count": 2,
   "metadata": {},
   "outputs": [],
   "source": [
    "# parser = argparse.ArgumentParser(description='Create synthetic training data for object detection algorithms.')\n",
    "# parser.add_argument(\"-bkg\", \"--backgrounds\", type=str, default=\"Backgrounds/\",\n",
    "#                     help=\"Path to background images folder.\")\n",
    "# parser.add_argument(\"-obj\", \"--objects\", type=str, default=\"Objects/\",\n",
    "#                     help=\"Path to object images folder.\")\n",
    "# parser.add_argument(\"-o\", \"--output\", type=str, default=\"TrainingImages/\",\n",
    "#                     help=\"Path to output images folder.\")\n",
    "# parser.add_argument(\"-ann\", \"--annotate\", type=bool, default=True,\n",
    "#                     help=\"Include annotations in the data augmentation steps?\")\n",
    "# parser.add_argument(\"-s\", \"--sframe\", type=bool, default=False,\n",
    "#                     help=\"Convert dataset to an sframe?\")\n",
    "# parser.add_argument(\"-g\", \"--groups\", type=bool, default=True,\n",
    "#                     help=\"Include groups of objects in training set?\")\n",
    "# parser.add_argument(\"-mut\", \"--mutate\", type=bool, default=False,\n",
    "#                     help=\"Perform mutatuons to objects (rotation, brightness, shapness, contrast)\")"
   ]
  },
  {
   "cell_type": "code",
   "execution_count": 3,
   "metadata": {},
   "outputs": [],
   "source": [
    "# base_bkgs_path = args.backgrounds\n",
    "# annotate = args.annotate\n",
    "# mutate = args.mutate\n",
    "# obj_groups = args.groups\n",
    "# sframe = args.sframe\n",
    "# objs_path = args.objects\n",
    "# output_images = args.output_images\n",
    "\n",
    "base_bkgs_path = './bkg_images/'\n",
    "annotate = True\n",
    "mutate = False\n",
    "obj_groups = True\n",
    "sframe = False\n",
    "objs_path = './obj_images/'\n",
    "output_images = './syn_images/'\n",
    "sizes = [0.8, 1.0] # different obj sizes to use TODO make configurable\n",
    "count_per_size = 3 # number of locations for each obj size TODO make configurable\n",
    "annotations = [] # store annots here\n",
    "n = 1"
   ]
  },
  {
   "cell_type": "code",
   "execution_count": 4,
   "metadata": {},
   "outputs": [
    {
     "data": {
      "text/plain": [
       "[0, 0, 0]"
      ]
     },
     "execution_count": 4,
     "metadata": {},
     "output_type": "execute_result"
    }
   ],
   "source": [
    "count = 3\n",
    "list(np.random.randint(0, 1, count))"
   ]
  },
  {
   "cell_type": "code",
   "execution_count": 5,
   "metadata": {},
   "outputs": [],
   "source": [
    "# Helper functions\n",
    "def get_obj_positions(obj, bkg, count=1, top = -1):\n",
    "    obj_w, obj_h = [], []\n",
    "    x_positions, y_positions = [], []\n",
    "    bkg_w, bkg_h = bkg.size\n",
    "    # Rescale our obj to have a couple different sizes\n",
    "    obj_sizes = [tuple([int(s*x) for x in obj.size]) for s in sizes]\n",
    "    for w, h in obj_sizes:\n",
    "        obj_w.extend([w]*count)\n",
    "        obj_h.extend([h]*count)\n",
    "        max_x, max_y = bkg_w-w, bkg_h-h\n",
    "        if max_x == 0 : max_x = 1\n",
    "        if max_y == 0 : max_y = 1\n",
    "        x_positions.extend(list(np.random.randint(0, max_x, count)))\n",
    "        \n",
    "        if (top == 0):\n",
    "            y_positions.extend(list(np.random.randint(0, 1, count)))\n",
    "        else:\n",
    "            y_positions.extend(list(np.random.randint(max_y/2, max_y, count)))\n",
    "            \n",
    "    return obj_h, obj_w, x_positions, y_positions"
   ]
  },
  {
   "cell_type": "code",
   "execution_count": 6,
   "metadata": {},
   "outputs": [],
   "source": [
    "def get_box(obj_w, obj_h, max_x, max_y, top = -1):\n",
    "    if max_x == 0 : max_x = 1\n",
    "    if max_y == 0 : max_y = 1\n",
    "    x1 = np.random.randint(0, max_x, 1)\n",
    "    if top == 0:\n",
    "        y1 = np.random.randint(0, 1, 1)\n",
    "    else:\n",
    "        y1 = np.random.randint(max_y/2, max_y, 1)\n",
    "    x2, y2 = x1 + obj_w, y1 + obj_h\n",
    "    return [x1[0], y1[0], x2[0], y2[0]]"
   ]
  },
  {
   "cell_type": "code",
   "execution_count": 7,
   "metadata": {},
   "outputs": [],
   "source": [
    "# check if two boxes intersect\n",
    "def intersects(box, new_box):\n",
    "    box_x1, box_y1, box_x2, box_y2 = box\n",
    "    x1, y1, x2, y2 = new_box\n",
    "    return not (box_x2 < x1 or box_x1 > x2 or box_y1 > y2 or box_y2 < y1)"
   ]
  },
  {
   "cell_type": "code",
   "execution_count": 8,
   "metadata": {},
   "outputs": [],
   "source": [
    "def iou(box, new_box):\n",
    "    box_x1, box_y1, box_x2, box_y2 = box\n",
    "    x1, y1, x2, y2 = new_box\n",
    "    \n",
    "    xi1 = np.maximum(box_x1, x1)\n",
    "    yi1 = np.maximum(box_y1, y1)\n",
    "    xi2 = np.minimum(box_x2, x2)\n",
    "    yi2 = np.minimum(box_y2, y2)\n",
    "    inter_width = xi2-xi1\n",
    "    inter_height = yi2-yi1\n",
    "    inter_area = max(inter_width, 0) * max(inter_height, 0)\n",
    "\n",
    "    box1_area = (box_x2-box_x1)*(box_y2-box_y1)\n",
    "    box2_area = (x2-x1)*(y2-y1)\n",
    "    union_area = box1_area + box2_area - inter_area\n",
    "    iou = float(inter_area)/float(union_area)\n",
    "    return iou"
   ]
  },
  {
   "cell_type": "code",
   "execution_count": 9,
   "metadata": {},
   "outputs": [],
   "source": [
    "def get_group_obj_positions(obj_group, bkg, objs_path):\n",
    "    bkg_w, bkg_h = bkg.size\n",
    "    boxes = []\n",
    "    obj_images = [f for f in os.listdir(objs_path) if not f.startswith(\".\")]\n",
    "    obj_paths = [objs_path + obj_images[i] for i in obj_group]\n",
    "    objs = [Image.open(p) for p in obj_paths]\n",
    "    obj_sizes = [tuple([int(0.7*x) for x in i.size]) for i in objs]\n",
    "    ctr = 0\n",
    "    for w, h in obj_sizes:\n",
    "        if 'furniture_' in obj_paths[ctr]:\n",
    "            top = 0\n",
    "        else:\n",
    "            top = -1\n",
    "        ctr += 1\n",
    "        # set background image boundaries\n",
    "        max_x, max_y = bkg_w-w, bkg_h-h\n",
    "        # get new box coordinates for the obj on the bkg\n",
    "        count = 0\n",
    "        while True:\n",
    "            count += 1\n",
    "            new_box = get_box(w, h, max_x, max_y, top)\n",
    "            for box in boxes:\n",
    "                if intersects(box, new_box) and iou(box, new_box) > 0.4:\n",
    "                    break\n",
    "\n",
    "            else:\n",
    "                break  # only executed if the inner loop did NOT break\n",
    "            #print(\"retrying a new obj box\")\n",
    "            continue  # only executed if the inner loop DID break\n",
    "        # append our new box\n",
    "        boxes.append(new_box)\n",
    "    return obj_sizes, boxes"
   ]
  },
  {
   "cell_type": "code",
   "execution_count": 10,
   "metadata": {},
   "outputs": [],
   "source": [
    "def mutate_image(img):\n",
    "    # resize image for random value\n",
    "    resize_rate = random.choice(sizes)\n",
    "    img = img.resize([int(img.width*resize_rate), int(img.height*resize_rate)], Image.BILINEAR)\n",
    "\n",
    "    # rotate image for random andle and generate exclusion mask \n",
    "    rotate_angle = random.randint(0,360)\n",
    "    mask = Image.new('L', img.size, 255)\n",
    "    img = img.rotate(rotate_angle, expand=True)\n",
    "    mask = mask.rotate(rotate_angle, expand=True)\n",
    "\n",
    "\n",
    "    # perform some enhancements on image\n",
    "    enhancers = [ImageEnhance.Brightness, ImageEnhance.Color, ImageEnhance.Contrast, ImageEnhance.Sharpness]\n",
    "    enhancers_count = random.randint(0,3)\n",
    "    for i in range(0,enhancers_count):\n",
    "        enhancer = random.choice(enhancers)\n",
    "        enhancers.remove(enhancer)\n",
    "        img = enhancer(img).enhance(random.uniform(0.5,1.5))\n",
    "\n",
    "    return img, mask"
   ]
  },
  {
   "cell_type": "code",
   "execution_count": 11,
   "metadata": {},
   "outputs": [],
   "source": [
    "def write_to_csv(data):\n",
    "    csv_columns = ['index','image','xmin','ymin', 'xmax', 'ymax', 'label']\n",
    "    with open(output_images + \"train_data.csv\",\"w\") as training_data:\n",
    "        writer = csv.DictWriter(training_data, fieldnames=csv_columns)\n",
    "        writer.writeheader()\n",
    "        for key,value in data.items():\n",
    "            training_data.write(\"%s,%s,%s,%s,%s,%s,%s\\n\"%(key,str(value[0]), str(value[1]), str(value[2]), str(value[3]), str(value[4]), value[5]))"
   ]
  },
  {
   "cell_type": "code",
   "execution_count": 12,
   "metadata": {},
   "outputs": [],
   "source": [
    "n = 1"
   ]
  },
  {
   "cell_type": "code",
   "execution_count": 44,
   "metadata": {},
   "outputs": [],
   "source": [
    "def synthesize_images(base_bkgs_path, objs_path, output_images, obj_groups=True, annotate=True, mutate=False):\n",
    "    global n\n",
    "    csv_idx = 1\n",
    "    print(\"Making synthetic images.\", flush=True)\n",
    "    bkg_images = [f for f in os.listdir(base_bkgs_path) if not f.startswith(\".\")]\n",
    "    obj_images = [f for f in os.listdir(objs_path) if not f.startswith(\".\")]\n",
    "    labelled_data = {}\n",
    "    for bkg in bkg_images:\n",
    "        # Load the background image\n",
    "        bkg_path = base_bkgs_path + bkg\n",
    "        bkg_img = Image.open(bkg_path)\n",
    "        bkg_x, bkg_y = bkg_img.size\n",
    "\n",
    "        # Do single objs first\n",
    "        for i in obj_images:\n",
    "            # Load the single obj\n",
    "            i_path = objs_path + i\n",
    "            obj_img = Image.open(i_path)\n",
    "            obj_img.getdata\n",
    "            top = -1\n",
    "            if 'furniture_' in i:\n",
    "                top = 0\n",
    "            # Get an array of random obj positions (from top-left corner)\n",
    "            obj_h, obj_w, x_pos, y_pos = get_obj_positions(obj=obj_img, bkg=bkg_img, count=count_per_size, top=top)            \n",
    "            \n",
    "            # Create synthetic images based on positions\n",
    "            for h, w, x, y in zip(obj_h, obj_w, x_pos, y_pos):\n",
    "                # Copy background\n",
    "                bkg_w_obj = bkg_img.copy()\n",
    "                \n",
    "                if mutate:\n",
    "                    new_obj, mask = mutate_image(obj_img)\n",
    "                    # Paste on the obj\n",
    "                    bkg_w_obj.paste(new_obj, (x, y), new_obj)\n",
    "                else:\n",
    "                    # Adjust obj size\n",
    "                    new_obj = obj_img.resize(size=(w, h))\n",
    "                    # Paste on the obj\n",
    "                    bkg_w_obj.paste(new_obj, (x, y), new_obj)\n",
    "                    img_name = 'syn_img_' + str(n) + \".jpg\"\n",
    "                output_fp = output_images + img_name\n",
    "                # Save the image\n",
    "                bkg_w_obj.save(fp=output_fp)\n",
    "\n",
    "                if annotate:\n",
    "                    labelled_data[csv_idx] = (img_name, int(x), int(y), int(x+w), int(y+h), i.split(\".jpg\")[0].split('_')[0])\n",
    "                    csv_idx += 1\n",
    "                #print(n)\n",
    "                n += 1\n",
    "\n",
    "        if obj_groups:\n",
    "            # 24 Groupings of 2-4 objs together on a single background\n",
    "            groups = [np.random.randint(0, len(obj_images) -1, np.random.randint(2, 5, 1)) for r in range(2*len(obj_images))]\n",
    "            # For each group of objs\n",
    "            for group in groups:\n",
    "                # Get sizes and positions\n",
    "                obj_sizes, boxes = get_group_obj_positions(group, bkg_img, objs_path)\n",
    "                bkg_w_obj = bkg_img.copy()\n",
    "                img_name = 'syn_img_' + str(n) + \".jpg\"\n",
    "                output_fp = output_images + img_name\n",
    "                # For each obj in the group\n",
    "                for i, size, box in zip(group, obj_sizes, boxes):\n",
    "                    # Get the obj\n",
    "                    obj = Image.open(objs_path + obj_images[i])\n",
    "                    obj_w, obj_h = size\n",
    "                    # Resize it as needed\n",
    "                    new_obj = obj.resize((obj_w, obj_h))\n",
    "                    x_pos, y_pos = box[:2]\n",
    "                    \n",
    "                    # Paste the obj to the background\n",
    "                    bkg_w_obj.paste(new_obj, (x_pos, y_pos), new_obj)\n",
    "                    \n",
    "                    if annotate:\n",
    "                    # ('x','y', 'height', 'width', 'label')\n",
    "                        labelled_data[csv_idx] = (img_name, int(x_pos), int(y_pos), int(x_pos+obj_w), int(y_pos+obj_h), obj_images[i].split(\".jpg\")[0].split('_')[0])\n",
    "                        csv_idx += 1\n",
    "                        \n",
    "                # Save image\n",
    "                bkg_w_obj.save(fp=output_fp)\n",
    "                \n",
    "                #print(n)\n",
    "                n += 1\n",
    "\n",
    "    if annotate:\n",
    "        print(\"Saving out Annotations\", flush=True)\n",
    "        # Save annotations\n",
    "        write_to_csv(labelled_data)\n",
    "\n",
    "    total_images = len([f for f in os.listdir(output_images) if not f.startswith(\".\")])\n",
    "    print(\"Done! Created {} synthetic training images.\".format(total_images), flush=True)\n"
   ]
  },
  {
   "cell_type": "code",
   "execution_count": 45,
   "metadata": {
    "scrolled": true
   },
   "outputs": [
    {
     "name": "stdout",
     "output_type": "stream",
     "text": [
      "Making synthetic images.\n",
      "Saving out Annotations\n",
      "Done! Created 4801 synthetic training images.\n"
     ]
    }
   ],
   "source": [
    "synthesize_images(base_bkgs_path, objs_path, output_images, obj_groups=True)"
   ]
  },
  {
   "cell_type": "markdown",
   "metadata": {},
   "source": [
    "### Converting Video to Images"
   ]
  },
  {
   "cell_type": "code",
   "execution_count": 17,
   "metadata": {},
   "outputs": [],
   "source": [
    "import cv2\n",
    "def convert_video_to_images(videoPath):\n",
    "    vcap = cv2.VideoCapture(videoPath)\n",
    "    filename = os.path.basename(vidPath).split('.')[0]\n",
    "    dirname = os.path.dirname(vid_path)\n",
    "    # read every nth frame\n",
    "    count=0\n",
    "    frame_num = []\n",
    "    while vcap.isOpened():\n",
    "        ret, frame = vcap.read()\n",
    "        if ret:\n",
    "            frame_count = filename + \"_img_\" + str(count) + \".jpg\"\n",
    "            cv2.imwrite(os.path.join(dirname, frame_count), frame)\n",
    "            frame_num.append(frame_count)\n",
    "            count += 10\n",
    "            vcap.set(1, count)\n",
    "        else:\n",
    "            vcap.release()\n",
    "            break"
   ]
  },
  {
   "cell_type": "code",
   "execution_count": 13,
   "metadata": {},
   "outputs": [],
   "source": [
    "vid_path = r'D:\\MachineLearning\\BoschHackathon\\train_data\\video_imgs\\door_5.mp4'\n",
    "#convert_video_to_images(vid_path)"
   ]
  },
  {
   "cell_type": "code",
   "execution_count": 16,
   "metadata": {},
   "outputs": [
    {
     "data": {
      "text/plain": [
       "'.'"
      ]
     },
     "execution_count": 16,
     "metadata": {},
     "output_type": "execute_result"
    }
   ],
   "source": [
    "os.path."
   ]
  },
  {
   "cell_type": "code",
   "execution_count": null,
   "metadata": {},
   "outputs": [],
   "source": []
  },
  {
   "cell_type": "markdown",
   "metadata": {},
   "source": [
    "### Modifying CSV"
   ]
  },
  {
   "cell_type": "code",
   "execution_count": null,
   "metadata": {},
   "outputs": [],
   "source": [
    "import os\n",
    "train_data = './train_data/train/'\n",
    "print(len([name for name in os.listdir(train_data) if ('.jpg' in name)]))"
   ]
  },
  {
   "cell_type": "code",
   "execution_count": null,
   "metadata": {},
   "outputs": [],
   "source": [
    "import pandas as pd\n",
    "\n",
    "list_dt = []\n",
    "for name in os.listdir(train_data):\n",
    "  if ('.csv' in name):\n",
    "    dt = pd.read_csv(os.path.join(train_data, name))\n",
    "    list_dt.append(dt)\n",
    "ds  = pd.concat(list_dt, axis=0, ignore_index=True)"
   ]
  },
  {
   "cell_type": "code",
   "execution_count": null,
   "metadata": {},
   "outputs": [],
   "source": [
    "ds.head()"
   ]
  },
  {
   "cell_type": "code",
   "execution_count": null,
   "metadata": {},
   "outputs": [],
   "source": [
    "ds['width'] = round(ds.xmax - ds.xmin)\n",
    "ds['height'] = round(ds.ymax - ds.ymin)\n",
    "ds['x'] = round((ds.xmax + ds.xmin)/2)\n",
    "ds['y'] = round((ds.ymax + ds.ymin)/2)"
   ]
  },
  {
   "cell_type": "code",
   "execution_count": null,
   "metadata": {},
   "outputs": [],
   "source": [
    "ds.head()"
   ]
  },
  {
   "cell_type": "code",
   "execution_count": null,
   "metadata": {},
   "outputs": [],
   "source": [
    "new_ds = ds[['image', 'x', 'y', 'height', 'width', 'label']]\n",
    "new_ds.head()"
   ]
  },
  {
   "cell_type": "code",
   "execution_count": null,
   "metadata": {},
   "outputs": [],
   "source": [
    "new_ds.to_csv('./train_data/train/consolidated_list.csv')"
   ]
  },
  {
   "cell_type": "code",
   "execution_count": null,
   "metadata": {},
   "outputs": [],
   "source": []
  },
  {
   "cell_type": "code",
   "execution_count": null,
   "metadata": {},
   "outputs": [],
   "source": []
  }
 ],
 "metadata": {
  "kernelspec": {
   "display_name": "Python 3",
   "language": "python",
   "name": "python3"
  },
  "language_info": {
   "codemirror_mode": {
    "name": "ipython",
    "version": 3
   },
   "file_extension": ".py",
   "mimetype": "text/x-python",
   "name": "python",
   "nbconvert_exporter": "python",
   "pygments_lexer": "ipython3",
   "version": "3.7.9"
  }
 },
 "nbformat": 4,
 "nbformat_minor": 4
}
